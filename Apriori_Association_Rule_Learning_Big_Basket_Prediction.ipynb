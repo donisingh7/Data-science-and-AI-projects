{
  "nbformat": 4,
  "nbformat_minor": 0,
  "metadata": {
    "colab": {
      "provenance": [],
      "include_colab_link": true
    },
    "kernelspec": {
      "name": "python3",
      "display_name": "Python 3"
    }
  },
  "cells": [
    {
      "cell_type": "markdown",
      "metadata": {
        "id": "view-in-github",
        "colab_type": "text"
      },
      "source": [
        "<a href=\"https://colab.research.google.com/github/donisingh7/Data-science-and-AI-projects/blob/main/Apriori_Association_Rule_Learning_Big_Basket_Prediction.ipynb\" target=\"_parent\"><img src=\"https://colab.research.google.com/assets/colab-badge.svg\" alt=\"Open In Colab\"/></a>"
      ]
    },
    {
      "cell_type": "markdown",
      "metadata": {
        "id": "Z-jZGC0q0aiY"
      },
      "source": [
        "# Apriori"
      ]
    },
    {
      "cell_type": "code",
      "source": [
        "!pip install apyori"
      ],
      "metadata": {
        "colab": {
          "base_uri": "https://localhost:8080/"
        },
        "id": "Z41QxOvwREYU",
        "outputId": "3ddfd7ed-b98f-4baf-dd38-4ae7e86cf725"
      },
      "execution_count": 1,
      "outputs": [
        {
          "output_type": "stream",
          "name": "stdout",
          "text": [
            "Looking in indexes: https://pypi.org/simple, https://us-python.pkg.dev/colab-wheels/public/simple/\n",
            "Collecting apyori\n",
            "  Downloading apyori-1.1.2.tar.gz (8.6 kB)\n",
            "  Preparing metadata (setup.py) ... \u001b[?25l\u001b[?25hdone\n",
            "Building wheels for collected packages: apyori\n",
            "  Building wheel for apyori (setup.py) ... \u001b[?25l\u001b[?25hdone\n",
            "  Created wheel for apyori: filename=apyori-1.1.2-py3-none-any.whl size=5976 sha256=b62d571101b5f296145e7368014d7b66dd7ddfabe0d1bb5600bd571ece3a6fc9\n",
            "  Stored in directory: /root/.cache/pip/wheels/32/2a/54/10c595515f385f3726642b10c60bf788029e8f3a1323e3913a\n",
            "Successfully built apyori\n",
            "Installing collected packages: apyori\n",
            "Successfully installed apyori-1.1.2\n"
          ]
        }
      ]
    },
    {
      "cell_type": "markdown",
      "metadata": {
        "id": "jE4Rc_OO0eJM"
      },
      "source": [
        "## Importing libraries"
      ]
    },
    {
      "cell_type": "code",
      "source": [
        "import numpy as np\n",
        "import matplotlib.pyplot as plt\n",
        "import pandas as pd"
      ],
      "metadata": {
        "id": "Y9UId7obRQor"
      },
      "execution_count": 2,
      "outputs": []
    },
    {
      "cell_type": "markdown",
      "metadata": {
        "id": "A9-xGHd20gY1"
      },
      "source": [
        "## Importing dataset"
      ]
    },
    {
      "cell_type": "code",
      "source": [
        "dataset = pd.read_excel('Dataset_master.xlsx', sheet_name='Big Basket.com Cart Apriori (Pr')\n",
        "transactions = []\n",
        "\n",
        "for i in range(0, len(dataset)):\n",
        "  transactions.append([str(dataset.values[i,j]) for j in range(0, 20)])"
      ],
      "metadata": {
        "id": "MB2o65_kRUFA"
      },
      "execution_count": 8,
      "outputs": []
    },
    {
      "cell_type": "markdown",
      "metadata": {
        "id": "8REFJFGC0lRN"
      },
      "source": [
        "## Apriori Training on Dataset"
      ]
    },
    {
      "cell_type": "code",
      "source": [
        "from apyori import apriori\n",
        "rules = apriori(transactions = transactions, min_support = 0.003, min_confidence = 0.2, min_lift = 3, min_length = 2, max_length = 2)"
      ],
      "metadata": {
        "id": "SMX-BYyGSjfb"
      },
      "execution_count": 9,
      "outputs": []
    },
    {
      "cell_type": "markdown",
      "metadata": {
        "id": "-Dw4Khi70u9g"
      },
      "source": [
        "## Visualizing"
      ]
    },
    {
      "cell_type": "markdown",
      "metadata": {
        "id": "LMakVn8pt7Fk"
      },
      "source": [
        "### Raw Results"
      ]
    },
    {
      "cell_type": "code",
      "source": [
        "results = list(rules)"
      ],
      "metadata": {
        "id": "PLEneFXgSmqz"
      },
      "execution_count": 10,
      "outputs": []
    },
    {
      "cell_type": "code",
      "source": [
        "results"
      ],
      "metadata": {
        "colab": {
          "base_uri": "https://localhost:8080/"
        },
        "id": "MObYrJ0vSoxM",
        "outputId": "b1989e8b-2dff-47c2-f72f-379a56a11857"
      },
      "execution_count": 11,
      "outputs": [
        {
          "output_type": "execute_result",
          "data": {
            "text/plain": [
              "[RelationRecord(items=frozenset({'almonds', 'burgers'}), support=0.005403158769742311, ordered_statistics=[OrderedStatistic(items_base=frozenset({'almonds'}), items_add=frozenset({'burgers'}), confidence=0.26530612244897955, lift=3.059072830410119)]),\n",
              " RelationRecord(items=frozenset({'buns', 'paneer'}), support=0.016070933776669436, ordered_statistics=[OrderedStatistic(items_base=frozenset({'buns'}), items_add=frozenset({'paneer'}), confidence=0.3240223463687151, lift=3.2848220450693617)]),\n",
              " RelationRecord(items=frozenset({'chicken', 'ginger garlic paste'}), support=0.00457190357439734, ordered_statistics=[OrderedStatistic(items_base=frozenset({'ginger garlic paste'}), items_add=frozenset({'chicken'}), confidence=0.29203539823008845, lift=4.7907079646017685)]),\n",
              " RelationRecord(items=frozenset({'fruit basket', 'vegetable basket'}), support=0.005541701302299806, ordered_statistics=[OrderedStatistic(items_base=frozenset({'fruit basket'}), items_add=frozenset({'vegetable basket'}), confidence=0.29411764705882354, lift=3.0811918381285754)]),\n",
              " RelationRecord(items=frozenset({'ginger garlic paste', 'olive oil'}), support=0.0033250207813798837, ordered_statistics=[OrderedStatistic(items_base=frozenset({'ginger garlic paste'}), items_add=frozenset({'olive oil'}), confidence=0.21238938053097345, lift=3.2342332250476087)]),\n",
              " RelationRecord(items=frozenset({'kissan puree', 'paneer'}), support=0.005403158769742311, ordered_statistics=[OrderedStatistic(items_base=frozenset({'kissan puree'}), items_add=frozenset({'paneer'}), confidence=0.3786407766990291, lift=3.838524053670776)]),\n",
              " RelationRecord(items=frozenset({'pasta', 'maggi'}), support=0.003463563313937379, ordered_statistics=[OrderedStatistic(items_base=frozenset({'pasta'}), items_add=frozenset({'maggi'}), confidence=0.24752475247524752, lift=3.455771109025796)]),\n",
              " RelationRecord(items=frozenset({'mushroom', 'pasta'}), support=0.005403158769742311, ordered_statistics=[OrderedStatistic(items_base=frozenset({'pasta'}), items_add=frozenset({'mushroom'}), confidence=0.3861386138613861, lift=4.8726372637263715)]),\n",
              " RelationRecord(items=frozenset({'mushroom', 'pepper spray'}), support=0.005818786367414797, ordered_statistics=[OrderedStatistic(items_base=frozenset({'pepper spray'}), items_add=frozenset({'mushroom'}), confidence=0.302158273381295, lift=3.8128993308849424)]),\n",
              " RelationRecord(items=frozenset({'trolly bag', 'neckrest'}), support=0.003463563313937379, ordered_statistics=[OrderedStatistic(items_base=frozenset({'neckrest'}), items_add=frozenset({'trolly bag'}), confidence=0.27173913043478265, lift=5.62009468045347)]),\n",
              " RelationRecord(items=frozenset({'whole wheat pasta', 'olive oil'}), support=0.0077583818232197285, ordered_statistics=[OrderedStatistic(items_base=frozenset({'whole wheat pasta'}), items_add=frozenset({'olive oil'}), confidence=0.26666666666666666, lift=4.060759493670886)])]"
            ]
          },
          "metadata": {},
          "execution_count": 11
        }
      ]
    },
    {
      "cell_type": "code",
      "source": [
        "print(results)"
      ],
      "metadata": {
        "colab": {
          "base_uri": "https://localhost:8080/"
        },
        "id": "ZPmesqSGSrci",
        "outputId": "ac1629f7-6a15-4932-d6e3-54c7efd1178a"
      },
      "execution_count": 12,
      "outputs": [
        {
          "output_type": "stream",
          "name": "stdout",
          "text": [
            "[RelationRecord(items=frozenset({'almonds', 'burgers'}), support=0.005403158769742311, ordered_statistics=[OrderedStatistic(items_base=frozenset({'almonds'}), items_add=frozenset({'burgers'}), confidence=0.26530612244897955, lift=3.059072830410119)]), RelationRecord(items=frozenset({'buns', 'paneer'}), support=0.016070933776669436, ordered_statistics=[OrderedStatistic(items_base=frozenset({'buns'}), items_add=frozenset({'paneer'}), confidence=0.3240223463687151, lift=3.2848220450693617)]), RelationRecord(items=frozenset({'chicken', 'ginger garlic paste'}), support=0.00457190357439734, ordered_statistics=[OrderedStatistic(items_base=frozenset({'ginger garlic paste'}), items_add=frozenset({'chicken'}), confidence=0.29203539823008845, lift=4.7907079646017685)]), RelationRecord(items=frozenset({'fruit basket', 'vegetable basket'}), support=0.005541701302299806, ordered_statistics=[OrderedStatistic(items_base=frozenset({'fruit basket'}), items_add=frozenset({'vegetable basket'}), confidence=0.29411764705882354, lift=3.0811918381285754)]), RelationRecord(items=frozenset({'ginger garlic paste', 'olive oil'}), support=0.0033250207813798837, ordered_statistics=[OrderedStatistic(items_base=frozenset({'ginger garlic paste'}), items_add=frozenset({'olive oil'}), confidence=0.21238938053097345, lift=3.2342332250476087)]), RelationRecord(items=frozenset({'kissan puree', 'paneer'}), support=0.005403158769742311, ordered_statistics=[OrderedStatistic(items_base=frozenset({'kissan puree'}), items_add=frozenset({'paneer'}), confidence=0.3786407766990291, lift=3.838524053670776)]), RelationRecord(items=frozenset({'pasta', 'maggi'}), support=0.003463563313937379, ordered_statistics=[OrderedStatistic(items_base=frozenset({'pasta'}), items_add=frozenset({'maggi'}), confidence=0.24752475247524752, lift=3.455771109025796)]), RelationRecord(items=frozenset({'mushroom', 'pasta'}), support=0.005403158769742311, ordered_statistics=[OrderedStatistic(items_base=frozenset({'pasta'}), items_add=frozenset({'mushroom'}), confidence=0.3861386138613861, lift=4.8726372637263715)]), RelationRecord(items=frozenset({'mushroom', 'pepper spray'}), support=0.005818786367414797, ordered_statistics=[OrderedStatistic(items_base=frozenset({'pepper spray'}), items_add=frozenset({'mushroom'}), confidence=0.302158273381295, lift=3.8128993308849424)]), RelationRecord(items=frozenset({'trolly bag', 'neckrest'}), support=0.003463563313937379, ordered_statistics=[OrderedStatistic(items_base=frozenset({'neckrest'}), items_add=frozenset({'trolly bag'}), confidence=0.27173913043478265, lift=5.62009468045347)]), RelationRecord(items=frozenset({'whole wheat pasta', 'olive oil'}), support=0.0077583818232197285, ordered_statistics=[OrderedStatistic(items_base=frozenset({'whole wheat pasta'}), items_add=frozenset({'olive oil'}), confidence=0.26666666666666666, lift=4.060759493670886)])]\n"
          ]
        }
      ]
    },
    {
      "cell_type": "markdown",
      "metadata": {
        "id": "0Ir6DPsdumvX"
      },
      "source": [
        "### Proper Display"
      ]
    },
    {
      "cell_type": "code",
      "source": [
        "def inspect(results):\n",
        "    product1         = [tuple(result[2][0][0])[0] for result in results]\n",
        "    product2         = [tuple(result[2][0][1])[0] for result in results]\n",
        "    supports    = [result[1] for result in results]\n",
        "    confidences = [result[2][0][2] for result in results]\n",
        "    lifts       = [result[2][0][3] for result in results]\n",
        "    return list(zip(product1, product2, supports, confidences, lifts))\n",
        "DataFrame_intelligence = pd.DataFrame(inspect(results), columns = ['product1', 'product2', 'Support', 'Confidence', 'Lift'])"
      ],
      "metadata": {
        "id": "-Aqdf48_SwgP"
      },
      "execution_count": 16,
      "outputs": []
    },
    {
      "cell_type": "code",
      "source": [
        "DataFrame_intelligence"
      ],
      "metadata": {
        "colab": {
          "base_uri": "https://localhost:8080/",
          "height": 394
        },
        "id": "gsfS01puSy9i",
        "outputId": "5dd3edaa-773b-43ec-d497-ddfa0a341df9"
      },
      "execution_count": 21,
      "outputs": [
        {
          "output_type": "execute_result",
          "data": {
            "text/plain": [
              "               product1          product2   Support  Confidence      Lift\n",
              "0               almonds           burgers  0.005403    0.265306  3.059073\n",
              "1                  buns            paneer  0.016071    0.324022  3.284822\n",
              "2   ginger garlic paste           chicken  0.004572    0.292035  4.790708\n",
              "3          fruit basket  vegetable basket  0.005542    0.294118  3.081192\n",
              "4   ginger garlic paste         olive oil  0.003325    0.212389  3.234233\n",
              "5          kissan puree            paneer  0.005403    0.378641  3.838524\n",
              "6                 pasta             maggi  0.003464    0.247525  3.455771\n",
              "7                 pasta          mushroom  0.005403    0.386139  4.872637\n",
              "8          pepper spray          mushroom  0.005819    0.302158  3.812899\n",
              "9              neckrest        trolly bag  0.003464    0.271739  5.620095\n",
              "10    whole wheat pasta         olive oil  0.007758    0.266667  4.060759"
            ],
            "text/html": [
              "\n",
              "  <div id=\"df-e2b27add-ef3a-4b74-b159-3621590f1eea\">\n",
              "    <div class=\"colab-df-container\">\n",
              "      <div>\n",
              "<style scoped>\n",
              "    .dataframe tbody tr th:only-of-type {\n",
              "        vertical-align: middle;\n",
              "    }\n",
              "\n",
              "    .dataframe tbody tr th {\n",
              "        vertical-align: top;\n",
              "    }\n",
              "\n",
              "    .dataframe thead th {\n",
              "        text-align: right;\n",
              "    }\n",
              "</style>\n",
              "<table border=\"1\" class=\"dataframe\">\n",
              "  <thead>\n",
              "    <tr style=\"text-align: right;\">\n",
              "      <th></th>\n",
              "      <th>product1</th>\n",
              "      <th>product2</th>\n",
              "      <th>Support</th>\n",
              "      <th>Confidence</th>\n",
              "      <th>Lift</th>\n",
              "    </tr>\n",
              "  </thead>\n",
              "  <tbody>\n",
              "    <tr>\n",
              "      <th>0</th>\n",
              "      <td>almonds</td>\n",
              "      <td>burgers</td>\n",
              "      <td>0.005403</td>\n",
              "      <td>0.265306</td>\n",
              "      <td>3.059073</td>\n",
              "    </tr>\n",
              "    <tr>\n",
              "      <th>1</th>\n",
              "      <td>buns</td>\n",
              "      <td>paneer</td>\n",
              "      <td>0.016071</td>\n",
              "      <td>0.324022</td>\n",
              "      <td>3.284822</td>\n",
              "    </tr>\n",
              "    <tr>\n",
              "      <th>2</th>\n",
              "      <td>ginger garlic paste</td>\n",
              "      <td>chicken</td>\n",
              "      <td>0.004572</td>\n",
              "      <td>0.292035</td>\n",
              "      <td>4.790708</td>\n",
              "    </tr>\n",
              "    <tr>\n",
              "      <th>3</th>\n",
              "      <td>fruit basket</td>\n",
              "      <td>vegetable basket</td>\n",
              "      <td>0.005542</td>\n",
              "      <td>0.294118</td>\n",
              "      <td>3.081192</td>\n",
              "    </tr>\n",
              "    <tr>\n",
              "      <th>4</th>\n",
              "      <td>ginger garlic paste</td>\n",
              "      <td>olive oil</td>\n",
              "      <td>0.003325</td>\n",
              "      <td>0.212389</td>\n",
              "      <td>3.234233</td>\n",
              "    </tr>\n",
              "    <tr>\n",
              "      <th>5</th>\n",
              "      <td>kissan puree</td>\n",
              "      <td>paneer</td>\n",
              "      <td>0.005403</td>\n",
              "      <td>0.378641</td>\n",
              "      <td>3.838524</td>\n",
              "    </tr>\n",
              "    <tr>\n",
              "      <th>6</th>\n",
              "      <td>pasta</td>\n",
              "      <td>maggi</td>\n",
              "      <td>0.003464</td>\n",
              "      <td>0.247525</td>\n",
              "      <td>3.455771</td>\n",
              "    </tr>\n",
              "    <tr>\n",
              "      <th>7</th>\n",
              "      <td>pasta</td>\n",
              "      <td>mushroom</td>\n",
              "      <td>0.005403</td>\n",
              "      <td>0.386139</td>\n",
              "      <td>4.872637</td>\n",
              "    </tr>\n",
              "    <tr>\n",
              "      <th>8</th>\n",
              "      <td>pepper spray</td>\n",
              "      <td>mushroom</td>\n",
              "      <td>0.005819</td>\n",
              "      <td>0.302158</td>\n",
              "      <td>3.812899</td>\n",
              "    </tr>\n",
              "    <tr>\n",
              "      <th>9</th>\n",
              "      <td>neckrest</td>\n",
              "      <td>trolly bag</td>\n",
              "      <td>0.003464</td>\n",
              "      <td>0.271739</td>\n",
              "      <td>5.620095</td>\n",
              "    </tr>\n",
              "    <tr>\n",
              "      <th>10</th>\n",
              "      <td>whole wheat pasta</td>\n",
              "      <td>olive oil</td>\n",
              "      <td>0.007758</td>\n",
              "      <td>0.266667</td>\n",
              "      <td>4.060759</td>\n",
              "    </tr>\n",
              "  </tbody>\n",
              "</table>\n",
              "</div>\n",
              "      <button class=\"colab-df-convert\" onclick=\"convertToInteractive('df-e2b27add-ef3a-4b74-b159-3621590f1eea')\"\n",
              "              title=\"Convert this dataframe to an interactive table.\"\n",
              "              style=\"display:none;\">\n",
              "        \n",
              "  <svg xmlns=\"http://www.w3.org/2000/svg\" height=\"24px\"viewBox=\"0 0 24 24\"\n",
              "       width=\"24px\">\n",
              "    <path d=\"M0 0h24v24H0V0z\" fill=\"none\"/>\n",
              "    <path d=\"M18.56 5.44l.94 2.06.94-2.06 2.06-.94-2.06-.94-.94-2.06-.94 2.06-2.06.94zm-11 1L8.5 8.5l.94-2.06 2.06-.94-2.06-.94L8.5 2.5l-.94 2.06-2.06.94zm10 10l.94 2.06.94-2.06 2.06-.94-2.06-.94-.94-2.06-.94 2.06-2.06.94z\"/><path d=\"M17.41 7.96l-1.37-1.37c-.4-.4-.92-.59-1.43-.59-.52 0-1.04.2-1.43.59L10.3 9.45l-7.72 7.72c-.78.78-.78 2.05 0 2.83L4 21.41c.39.39.9.59 1.41.59.51 0 1.02-.2 1.41-.59l7.78-7.78 2.81-2.81c.8-.78.8-2.07 0-2.86zM5.41 20L4 18.59l7.72-7.72 1.47 1.35L5.41 20z\"/>\n",
              "  </svg>\n",
              "      </button>\n",
              "      \n",
              "  <style>\n",
              "    .colab-df-container {\n",
              "      display:flex;\n",
              "      flex-wrap:wrap;\n",
              "      gap: 12px;\n",
              "    }\n",
              "\n",
              "    .colab-df-convert {\n",
              "      background-color: #E8F0FE;\n",
              "      border: none;\n",
              "      border-radius: 50%;\n",
              "      cursor: pointer;\n",
              "      display: none;\n",
              "      fill: #1967D2;\n",
              "      height: 32px;\n",
              "      padding: 0 0 0 0;\n",
              "      width: 32px;\n",
              "    }\n",
              "\n",
              "    .colab-df-convert:hover {\n",
              "      background-color: #E2EBFA;\n",
              "      box-shadow: 0px 1px 2px rgba(60, 64, 67, 0.3), 0px 1px 3px 1px rgba(60, 64, 67, 0.15);\n",
              "      fill: #174EA6;\n",
              "    }\n",
              "\n",
              "    [theme=dark] .colab-df-convert {\n",
              "      background-color: #3B4455;\n",
              "      fill: #D2E3FC;\n",
              "    }\n",
              "\n",
              "    [theme=dark] .colab-df-convert:hover {\n",
              "      background-color: #434B5C;\n",
              "      box-shadow: 0px 1px 3px 1px rgba(0, 0, 0, 0.15);\n",
              "      filter: drop-shadow(0px 1px 2px rgba(0, 0, 0, 0.3));\n",
              "      fill: #FFFFFF;\n",
              "    }\n",
              "  </style>\n",
              "\n",
              "      <script>\n",
              "        const buttonEl =\n",
              "          document.querySelector('#df-e2b27add-ef3a-4b74-b159-3621590f1eea button.colab-df-convert');\n",
              "        buttonEl.style.display =\n",
              "          google.colab.kernel.accessAllowed ? 'block' : 'none';\n",
              "\n",
              "        async function convertToInteractive(key) {\n",
              "          const element = document.querySelector('#df-e2b27add-ef3a-4b74-b159-3621590f1eea');\n",
              "          const dataTable =\n",
              "            await google.colab.kernel.invokeFunction('convertToInteractive',\n",
              "                                                     [key], {});\n",
              "          if (!dataTable) return;\n",
              "\n",
              "          const docLinkHtml = 'Like what you see? Visit the ' +\n",
              "            '<a target=\"_blank\" href=https://colab.research.google.com/notebooks/data_table.ipynb>data table notebook</a>'\n",
              "            + ' to learn more about interactive tables.';\n",
              "          element.innerHTML = '';\n",
              "          dataTable['output_type'] = 'display_data';\n",
              "          await google.colab.output.renderOutput(dataTable, element);\n",
              "          const docLink = document.createElement('div');\n",
              "          docLink.innerHTML = docLinkHtml;\n",
              "          element.appendChild(docLink);\n",
              "        }\n",
              "      </script>\n",
              "    </div>\n",
              "  </div>\n",
              "  "
            ]
          },
          "metadata": {},
          "execution_count": 21
        }
      ]
    },
    {
      "cell_type": "code",
      "source": [
        "DataFrame_intelligence.nlargest(n = 20, columns = 'Lift')\n"
      ],
      "metadata": {
        "colab": {
          "base_uri": "https://localhost:8080/",
          "height": 394
        },
        "id": "6lCgR0D_S1nE",
        "outputId": "0c8a1d0c-23e8-4cca-bc0f-f2e4a1e0acce"
      },
      "execution_count": 22,
      "outputs": [
        {
          "output_type": "execute_result",
          "data": {
            "text/plain": [
              "               product1          product2   Support  Confidence      Lift\n",
              "9              neckrest        trolly bag  0.003464    0.271739  5.620095\n",
              "7                 pasta          mushroom  0.005403    0.386139  4.872637\n",
              "2   ginger garlic paste           chicken  0.004572    0.292035  4.790708\n",
              "10    whole wheat pasta         olive oil  0.007758    0.266667  4.060759\n",
              "5          kissan puree            paneer  0.005403    0.378641  3.838524\n",
              "8          pepper spray          mushroom  0.005819    0.302158  3.812899\n",
              "6                 pasta             maggi  0.003464    0.247525  3.455771\n",
              "1                  buns            paneer  0.016071    0.324022  3.284822\n",
              "4   ginger garlic paste         olive oil  0.003325    0.212389  3.234233\n",
              "3          fruit basket  vegetable basket  0.005542    0.294118  3.081192\n",
              "0               almonds           burgers  0.005403    0.265306  3.059073"
            ],
            "text/html": [
              "\n",
              "  <div id=\"df-71d96de8-0b08-4956-b2dd-f34c5a40fd68\">\n",
              "    <div class=\"colab-df-container\">\n",
              "      <div>\n",
              "<style scoped>\n",
              "    .dataframe tbody tr th:only-of-type {\n",
              "        vertical-align: middle;\n",
              "    }\n",
              "\n",
              "    .dataframe tbody tr th {\n",
              "        vertical-align: top;\n",
              "    }\n",
              "\n",
              "    .dataframe thead th {\n",
              "        text-align: right;\n",
              "    }\n",
              "</style>\n",
              "<table border=\"1\" class=\"dataframe\">\n",
              "  <thead>\n",
              "    <tr style=\"text-align: right;\">\n",
              "      <th></th>\n",
              "      <th>product1</th>\n",
              "      <th>product2</th>\n",
              "      <th>Support</th>\n",
              "      <th>Confidence</th>\n",
              "      <th>Lift</th>\n",
              "    </tr>\n",
              "  </thead>\n",
              "  <tbody>\n",
              "    <tr>\n",
              "      <th>9</th>\n",
              "      <td>neckrest</td>\n",
              "      <td>trolly bag</td>\n",
              "      <td>0.003464</td>\n",
              "      <td>0.271739</td>\n",
              "      <td>5.620095</td>\n",
              "    </tr>\n",
              "    <tr>\n",
              "      <th>7</th>\n",
              "      <td>pasta</td>\n",
              "      <td>mushroom</td>\n",
              "      <td>0.005403</td>\n",
              "      <td>0.386139</td>\n",
              "      <td>4.872637</td>\n",
              "    </tr>\n",
              "    <tr>\n",
              "      <th>2</th>\n",
              "      <td>ginger garlic paste</td>\n",
              "      <td>chicken</td>\n",
              "      <td>0.004572</td>\n",
              "      <td>0.292035</td>\n",
              "      <td>4.790708</td>\n",
              "    </tr>\n",
              "    <tr>\n",
              "      <th>10</th>\n",
              "      <td>whole wheat pasta</td>\n",
              "      <td>olive oil</td>\n",
              "      <td>0.007758</td>\n",
              "      <td>0.266667</td>\n",
              "      <td>4.060759</td>\n",
              "    </tr>\n",
              "    <tr>\n",
              "      <th>5</th>\n",
              "      <td>kissan puree</td>\n",
              "      <td>paneer</td>\n",
              "      <td>0.005403</td>\n",
              "      <td>0.378641</td>\n",
              "      <td>3.838524</td>\n",
              "    </tr>\n",
              "    <tr>\n",
              "      <th>8</th>\n",
              "      <td>pepper spray</td>\n",
              "      <td>mushroom</td>\n",
              "      <td>0.005819</td>\n",
              "      <td>0.302158</td>\n",
              "      <td>3.812899</td>\n",
              "    </tr>\n",
              "    <tr>\n",
              "      <th>6</th>\n",
              "      <td>pasta</td>\n",
              "      <td>maggi</td>\n",
              "      <td>0.003464</td>\n",
              "      <td>0.247525</td>\n",
              "      <td>3.455771</td>\n",
              "    </tr>\n",
              "    <tr>\n",
              "      <th>1</th>\n",
              "      <td>buns</td>\n",
              "      <td>paneer</td>\n",
              "      <td>0.016071</td>\n",
              "      <td>0.324022</td>\n",
              "      <td>3.284822</td>\n",
              "    </tr>\n",
              "    <tr>\n",
              "      <th>4</th>\n",
              "      <td>ginger garlic paste</td>\n",
              "      <td>olive oil</td>\n",
              "      <td>0.003325</td>\n",
              "      <td>0.212389</td>\n",
              "      <td>3.234233</td>\n",
              "    </tr>\n",
              "    <tr>\n",
              "      <th>3</th>\n",
              "      <td>fruit basket</td>\n",
              "      <td>vegetable basket</td>\n",
              "      <td>0.005542</td>\n",
              "      <td>0.294118</td>\n",
              "      <td>3.081192</td>\n",
              "    </tr>\n",
              "    <tr>\n",
              "      <th>0</th>\n",
              "      <td>almonds</td>\n",
              "      <td>burgers</td>\n",
              "      <td>0.005403</td>\n",
              "      <td>0.265306</td>\n",
              "      <td>3.059073</td>\n",
              "    </tr>\n",
              "  </tbody>\n",
              "</table>\n",
              "</div>\n",
              "      <button class=\"colab-df-convert\" onclick=\"convertToInteractive('df-71d96de8-0b08-4956-b2dd-f34c5a40fd68')\"\n",
              "              title=\"Convert this dataframe to an interactive table.\"\n",
              "              style=\"display:none;\">\n",
              "        \n",
              "  <svg xmlns=\"http://www.w3.org/2000/svg\" height=\"24px\"viewBox=\"0 0 24 24\"\n",
              "       width=\"24px\">\n",
              "    <path d=\"M0 0h24v24H0V0z\" fill=\"none\"/>\n",
              "    <path d=\"M18.56 5.44l.94 2.06.94-2.06 2.06-.94-2.06-.94-.94-2.06-.94 2.06-2.06.94zm-11 1L8.5 8.5l.94-2.06 2.06-.94-2.06-.94L8.5 2.5l-.94 2.06-2.06.94zm10 10l.94 2.06.94-2.06 2.06-.94-2.06-.94-.94-2.06-.94 2.06-2.06.94z\"/><path d=\"M17.41 7.96l-1.37-1.37c-.4-.4-.92-.59-1.43-.59-.52 0-1.04.2-1.43.59L10.3 9.45l-7.72 7.72c-.78.78-.78 2.05 0 2.83L4 21.41c.39.39.9.59 1.41.59.51 0 1.02-.2 1.41-.59l7.78-7.78 2.81-2.81c.8-.78.8-2.07 0-2.86zM5.41 20L4 18.59l7.72-7.72 1.47 1.35L5.41 20z\"/>\n",
              "  </svg>\n",
              "      </button>\n",
              "      \n",
              "  <style>\n",
              "    .colab-df-container {\n",
              "      display:flex;\n",
              "      flex-wrap:wrap;\n",
              "      gap: 12px;\n",
              "    }\n",
              "\n",
              "    .colab-df-convert {\n",
              "      background-color: #E8F0FE;\n",
              "      border: none;\n",
              "      border-radius: 50%;\n",
              "      cursor: pointer;\n",
              "      display: none;\n",
              "      fill: #1967D2;\n",
              "      height: 32px;\n",
              "      padding: 0 0 0 0;\n",
              "      width: 32px;\n",
              "    }\n",
              "\n",
              "    .colab-df-convert:hover {\n",
              "      background-color: #E2EBFA;\n",
              "      box-shadow: 0px 1px 2px rgba(60, 64, 67, 0.3), 0px 1px 3px 1px rgba(60, 64, 67, 0.15);\n",
              "      fill: #174EA6;\n",
              "    }\n",
              "\n",
              "    [theme=dark] .colab-df-convert {\n",
              "      background-color: #3B4455;\n",
              "      fill: #D2E3FC;\n",
              "    }\n",
              "\n",
              "    [theme=dark] .colab-df-convert:hover {\n",
              "      background-color: #434B5C;\n",
              "      box-shadow: 0px 1px 3px 1px rgba(0, 0, 0, 0.15);\n",
              "      filter: drop-shadow(0px 1px 2px rgba(0, 0, 0, 0.3));\n",
              "      fill: #FFFFFF;\n",
              "    }\n",
              "  </style>\n",
              "\n",
              "      <script>\n",
              "        const buttonEl =\n",
              "          document.querySelector('#df-71d96de8-0b08-4956-b2dd-f34c5a40fd68 button.colab-df-convert');\n",
              "        buttonEl.style.display =\n",
              "          google.colab.kernel.accessAllowed ? 'block' : 'none';\n",
              "\n",
              "        async function convertToInteractive(key) {\n",
              "          const element = document.querySelector('#df-71d96de8-0b08-4956-b2dd-f34c5a40fd68');\n",
              "          const dataTable =\n",
              "            await google.colab.kernel.invokeFunction('convertToInteractive',\n",
              "                                                     [key], {});\n",
              "          if (!dataTable) return;\n",
              "\n",
              "          const docLinkHtml = 'Like what you see? Visit the ' +\n",
              "            '<a target=\"_blank\" href=https://colab.research.google.com/notebooks/data_table.ipynb>data table notebook</a>'\n",
              "            + ' to learn more about interactive tables.';\n",
              "          element.innerHTML = '';\n",
              "          dataTable['output_type'] = 'display_data';\n",
              "          await google.colab.output.renderOutput(dataTable, element);\n",
              "          const docLink = document.createElement('div');\n",
              "          docLink.innerHTML = docLinkHtml;\n",
              "          element.appendChild(docLink);\n",
              "        }\n",
              "      </script>\n",
              "    </div>\n",
              "  </div>\n",
              "  "
            ]
          },
          "metadata": {},
          "execution_count": 22
        }
      ]
    }
  ]
}